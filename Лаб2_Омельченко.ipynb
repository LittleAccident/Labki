{
  "nbformat": 4,
  "nbformat_minor": 0,
  "metadata": {
    "colab": {
      "provenance": []
    },
    "kernelspec": {
      "name": "python3",
      "display_name": "Python 3"
    },
    "language_info": {
      "name": "python"
    }
  },
  "cells": [
    {
      "cell_type": "code",
      "execution_count": 103,
      "metadata": {
        "id": "AL1tu-YdFviy"
      },
      "outputs": [],
      "source": [
        "class Employee:\n",
        "    def __init__(self, name, l_name, salary, exp):\n",
        "        self.name = name\n",
        "        self.last_name = l_name\n",
        "        self.base_salary = salary\n",
        "        self.experience = exp\n",
        "\n",
        "\n",
        "class Developer(Employee):\n",
        "    def __init__(self, name, l_name, salary, exp):\n",
        "       super().__init__(name, l_name, salary, exp)\n",
        "       \n",
        "\n",
        "class Designer(Employee):\n",
        "    def __init__(self, name, l_name, salary, exp, er):\n",
        "       super().__init__(name, l_name, salary, exp)\n",
        "       self.er = er\n",
        "\n",
        "class Manager(Employee):\n",
        "    def __init__(self, name, l_name, salary, exp, team):\n",
        "       super().__init__(name, l_name, salary, exp)\n",
        "       self.team = team   \n",
        "\n",
        "\n",
        "class Department:\n",
        "    def __init__(self, managers):\n",
        "         self.managers = managers\n",
        "    \n",
        "    def giveSalary(self):\n",
        "        print('\\n'.join(self.countedSalary()))\n",
        "\n",
        "    def countedSalary(self):\n",
        "        ans = []\n",
        "        for m in self.managers:\n",
        "            salary = m.base_salary\n",
        "            if m.experience > 5:   salary = salary*1.2 + 500\n",
        "            elif m.experience > 2: salary += 200\n",
        "\n",
        "            if len(m.team)>10: salary += 300\n",
        "            elif len(m.team)>5: salary += 200\n",
        "            \n",
        "            if sum(isinstance(x, Developer) for x in m.team)>len(m.team)/2: salary *= 1.1\n",
        "            ans.append(f'\\n{m.name} {m.last_name} отримав(-ла) {salary} шекелей')\n",
        "\n",
        "            for e in m.team:\n",
        "                salary = e.base_salary\n",
        "\n",
        "                if e.experience > 5:\n",
        "                    salary = salary*1.2 + 500\n",
        "                elif e.experience > 2:\n",
        "                    salary += 200\n",
        "                \n",
        "                if isinstance(e, Designer):\n",
        "                    salary *= e.er\n",
        "\n",
        "                ans.append(f'   {e.name} {e.last_name} отримав(-ла) {salary} шекелей')\n",
        "\n",
        "        return ans"
      ]
    },
    {
      "cell_type": "code",
      "source": [
        "department = Department(\n",
        "    [\n",
        "        Manager('Ігнат', 'Прищ', 4500, 8,\n",
        "                [\n",
        "                    Designer('Кирило',  'Крінженко', 3300, 4,   1),\n",
        "                    Designer('Галина',  'Краш',      2100, 1.5, 0.1),\n",
        "                    Designer('Остап',   'Вишня',     4300, 3.5, 0.7),\n",
        "                    Designer('Іван',    'Березюк',   4800, 1.5, 0.3),\n",
        "                    Developer('Сергій', 'Обрубок',   4800, 5)\n",
        "                ]),\n",
        "        Manager('Василина', 'Голубець', 4300, 7,\n",
        "                [\n",
        "                    Designer('Мирослав', 'Грач',    5600,   1,   0.8),\n",
        "                    Designer('Тарас',    'Квасоля', 2300,   0.5, 0.3),\n",
        "                    Developer('Єгор',    'Шнурко',  3800,   2.5),\n",
        "                    Developer('Наташа',  'Борщ',    3900,   2),\n",
        "                    Developer('Дмитро',  'Гуро',    999999, 99),\n",
        "                ]),\n",
        "        Manager('Любослав', 'Слободяник', 4600, 4,\n",
        "                [\n",
        "                    Designer('Анна',     'Галушка',    5600, 1,   0.5),\n",
        "                    Designer('Тарас',    'Онопрієнко', 3200, 1.5, 0.7),\n",
        "                    Designer('Тарас',    'Бартків',    5000, 2,   0.9),\n",
        "                    Designer('Тарас',    'Музичко',    6800, 5,   0.4),\n",
        "                    Designer('Тарас',    'Олексенко',  2300, 1.5, 0.3),\n",
        "                    Designer('Тарас',    'Березюк',    4800, 1.5, 0.3),\n",
        "                    Developer('Єгор',    'Живосил',    3600, 3),\n",
        "                    Developer('Єгор',    'Чеслав',     3900, 2.5),\n",
        "                    Developer('Вікторія','Данканич',   4200, 3.5),\n",
        "                    Developer('Єгор',    'Данканич',   3800, 1),\n",
        "                    Developer('Наташа',  'Леськів',    3900, 2)\n",
        "                ])\n",
        "        \n",
        "    ])"
      ],
      "metadata": {
        "id": "LKQvN4XrIFAf"
      },
      "execution_count": 110,
      "outputs": []
    },
    {
      "cell_type": "code",
      "source": [
        "department.giveSalary()"
      ],
      "metadata": {
        "colab": {
          "base_uri": "https://localhost:8080/"
        },
        "id": "HeusF9k0IJhX",
        "outputId": "384669ac-41d2-441e-cf1f-5d596cc5693a"
      },
      "execution_count": 111,
      "outputs": [
        {
          "output_type": "stream",
          "name": "stdout",
          "text": [
            "\n",
            "Ігнат Прищ отримав(-ла) 5900.0 шекелей\n",
            "   Кирило Крінженко отримав(-ла) 3500 шекелей\n",
            "   Галина Краш отримав(-ла) 210.0 шекелей\n",
            "   Остап Вишня отримав(-ла) 3150.0 шекелей\n",
            "   Іван Березюк отримав(-ла) 1440.0 шекелей\n",
            "   Сергій Обрубок отримав(-ла) 6260.0 шекелей\n",
            "\n",
            "Василина Голубець отримав(-ла) 6226.000000000001 шекелей\n",
            "   Мирослав Грач отримав(-ла) 4480.0 шекелей\n",
            "   Тарас Квасоля отримав(-ла) 690.0 шекелей\n",
            "   Єгор Шнурко отримав(-ла) 4000 шекелей\n",
            "   Наташа Борщ отримав(-ла) 4100 шекелей\n",
            "   Дмитро Гуро отримав(-ла) 1200498.8 шекелей\n",
            "\n",
            "Любослав Слободяник отримав(-ла) 5100 шекелей\n",
            "   Анна Галушка отримав(-ла) 2800.0 шекелей\n",
            "   Тарас Онопрієнко отримав(-ла) 2240.0 шекелей\n",
            "   Тарас Бартків отримав(-ла) 4680.0 шекелей\n",
            "   Тарас Музичко отримав(-ла) 3464.0 шекелей\n",
            "   Тарас Олексенко отримав(-ла) 690.0 шекелей\n",
            "   Тарас Березюк отримав(-ла) 1440.0 шекелей\n",
            "   Єгор Живосил отримав(-ла) 3800 шекелей\n",
            "   Єгор Чеслав отримав(-ла) 4100 шекелей\n",
            "   Вікторія Данканич отримав(-ла) 4400 шекелей\n",
            "   Єгор Данканич отримав(-ла) 3800 шекелей\n",
            "   Наташа Леськів отримав(-ла) 4100 шекелей\n"
          ]
        }
      ]
    }
  ]
}